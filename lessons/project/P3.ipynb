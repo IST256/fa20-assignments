{
 "cells": [
  {
   "cell_type": "markdown",
   "metadata": {},
   "source": [
    "# IST256 Project Deliverable 3 (P3)\n",
    "\n",
    "## Phase 3: Implementation (26 of 52 points)\n",
    "\n",
    "**IMPORTANT:** PLEASE READ THIS ENTIRE NOTEBOOK BEFORE STARTING YOUR WORK!\n",
    "\n",
    "It time to turn in the the finished product, 3 Steps:\n",
    "\n",
    "1. Restate your idea\n",
    "2. Place all your project code in cells below, and make sure it runs correctly. \n",
    "3. Your Comments\n",
    "\n",
    "Don't forget to record in your journal each time you work on the project.\n"
   ]
  },
  {
   "cell_type": "markdown",
   "metadata": {},
   "source": [
    "### Step 1: What is Your Idea, Again?\n",
    "\n",
    "Remind us of your project again!\n",
    "\n",
    "`--== Double-click and put the title or brief description of your project below  ==--`\n",
    "\n"
   ]
  },
  {
   "cell_type": "markdown",
   "metadata": {},
   "source": [
    "### Step 2: Project Code\n",
    "\n",
    "Include all project code below. Make sure to execute your code to ensure it runs properly before you turn it in. We will be grading this code based on the following criteria:\n",
    "\n",
    "- Is there clear code evidence which helps your evaluator determine how you got from original idea to the final implementation?\n",
    "- It is expected that your code will execute as intended as solve the problem as stated.\n",
    "- It is expected your code will be well written in a modular fashion, use aptly named objects, user defined functions for modularity (breaking up the code into smaller parts), and handle user errors  / bad input as appropriate.\n",
    "- The programming style and idioms will match those you were taught in class. We should not see code outside of the style learned in IST256.\n",
    "- Does the code clearly demonstrate what you have learned in the course and that you are capable of acquiring new programming skills and techniques independently ?\n",
    "- Does your journal adequately reflect upon the work you’ve done?\n",
    "- Will your code execute for the evaluator? Does it have everything they need in this notebook? HINT: Go to the control panel, click **Stop My Server**, then start your notebook back up and run your P3 code again to make sure it works in a clean notebook.\n",
    "- Exceptional projects are awareded the highest number of points. Exceptional projects go above and beyond the expectations and normally incorporate several project references into the project.\n",
    "\n",
    "Multiple cells are provided for your code below. Add more as appropriate.\n"
   ]
  },
  {
   "cell_type": "code",
   "execution_count": null,
   "metadata": {},
   "outputs": [],
   "source": [
    "# TODO Pip install any modules your project requires here Put your project code in cells below this one!\n"
   ]
  },
  {
   "cell_type": "code",
   "execution_count": null,
   "metadata": {},
   "outputs": [],
   "source": []
  },
  {
   "cell_type": "code",
   "execution_count": null,
   "metadata": {},
   "outputs": [],
   "source": []
  },
  {
   "cell_type": "code",
   "execution_count": null,
   "metadata": {},
   "outputs": [],
   "source": []
  },
  {
   "cell_type": "code",
   "execution_count": null,
   "metadata": {},
   "outputs": [],
   "source": []
  },
  {
   "cell_type": "markdown",
   "metadata": {},
   "source": [
    "### Step 3: Your Comments\n",
    "\n",
    "Any last words or comments about your code submission? Add anything here you feel will be helpful for us to make a proper evaluation of your code project submission. This should include, but not be limited to, any changes you made to your project between P2 and P3 which we would be unaware of and the reasons those changes we made.\n",
    "\n",
    "`--== Double-click and place your comments below  ==--`\n",
    "\n",
    "\n",
    "\n"
   ]
  },
  {
   "cell_type": "code",
   "execution_count": null,
   "metadata": {},
   "outputs": [],
   "source": [
    "# SAVE YOUR WORK FIRST! CTRL+S\n",
    "# RUN THIS CODE CELL TO TURN IN YOUR WORK!\n",
    "from ist256.submission import Submission\n",
    "Submission().submit()"
   ]
  }
 ],
 "metadata": {
  "kernelspec": {
   "display_name": "Python 3",
   "language": "python",
   "name": "python3"
  },
  "language_info": {
   "codemirror_mode": {
    "name": "ipython",
    "version": 3
   },
   "file_extension": ".py",
   "mimetype": "text/x-python",
   "name": "python",
   "nbconvert_exporter": "python",
   "pygments_lexer": "ipython3",
   "version": "3.7.6"
  }
 },
 "nbformat": 4,
 "nbformat_minor": 4
}
