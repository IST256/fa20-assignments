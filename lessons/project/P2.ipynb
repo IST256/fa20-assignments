{
 "cells": [
  {
   "cell_type": "markdown",
   "metadata": {},
   "source": [
    "# IST256 Project Deliverable 2 (P2)\n",
    "\n",
    "## Phase 2: The Project Pitch / Proof Of Concept (13 of 52 points)\n",
    "\n",
    "**IMPORTANT:** PLEASE READ THIS ENTIRE NOTEBOOK BEFORE STARTING YOUR WORK!\n",
    "\n",
    "The Pitch / Proof of Concept is a presentation of your project idea with evidence that your project is feasible:\n",
    "\n",
    "You will complete the following steps within this notebook then hand it in using the submission script.\n",
    "\n",
    "1. Restate your idea\n",
    "2. List links to **project References** (the datasets / API’s / Python packages / services / etc.) you require to complete your project. For each reference, explain what it is and why you require it to complete your project.\n",
    "3. Code examples you’ve written which demonstrate you understand how to use each project reference.\n",
    "4. Your main program’s design: Inputs and Outputs of your program, and a high level algorithm for your program. How will this program interact with the user? I'd like to see your high-level vision of how the final program will look and feel.\n",
    "\n",
    "\n",
    "Don't forget to record in your journal each time you work on the project.\n"
   ]
  },
  {
   "cell_type": "markdown",
   "metadata": {},
   "source": [
    "### Step 1: What is Your Idea, Again?\n",
    "\n",
    "Remind us of your project again!\n",
    "\n",
    "`--== Double-click and put the title or brief description of your project below  ==--`\n",
    "\n"
   ]
  },
  {
   "cell_type": "markdown",
   "metadata": {},
   "source": [
    "### Step 2: Project References\n",
    "\n",
    "Include references to  the other software you will incorporate into your project. Theese are the datasets, API's, Python packages, cloud services, etc. you require to make your project work. \n",
    "\n",
    "**At bare miniumm should have two references. Projects aspiring for higher marks should have more.**\n",
    "\n",
    "For each project reference, include: \n",
    "\n",
    "- Number each reference 1, 2, 3, etc...\n",
    "- Name and Purpose. What is it?\n",
    "- Where did you get it? Provide a URL to it so that I can review it.\n",
    "- How will you use it / why do you need it for your project?\n",
    "\n",
    "\n",
    "`--== Double-click and place your references below  ==--`\n",
    "\n",
    "\n"
   ]
  },
  {
   "cell_type": "markdown",
   "metadata": {},
   "source": [
    "### Step 3: Code samples\n",
    "\n",
    "For each of your project references, write code which demonstrates you understand how to work with it. This should be your OWN WRITTEN CODE EXAMPLE and not code you copied from the Internet. Writing it yourself will help you understand it, orat least help you toidentify what you DON'T understand about it NOW rather than 1 day before the P3 deliverable is due.\n",
    "\n",
    "- If its a module, you should install it and demonstrate you can use it, calling the functions, etc you will need. \n",
    "- If its a dataset, demonstrate you can load the dataset into pandas and display the rows / columns you need. \n",
    "- If its an API, demostrate you can make a request to the API, get a JSON response, de-serialize the JSON into a Python object then access data within the Python object.\n",
    "- For other services demonstrate you can integate them in Jupyter notebook (play sounds, take a picture with the webcam, make a drop-down list, etc)\n",
    "\n",
    "A code cell is provided for up to 5 references. If you require more, add more cells.\n",
    "\n",
    "At the bare minimum you should write one sample of code for each project reference, but there can be as much as you feel is important for us to review. The code should reflect your needs to complete the project. Treat each sample as an independent program. You do not need to integrate them together.\n",
    "\n",
    "### If you can't get something working, ask questions\n",
    "\n",
    "While trying to write your code samples you may encounter varying degrees of success. It might be working, it might not! If things did not go well, we are here to help, but you must articulate the specifics of your problem. \"I can't figure out how to call the API\" or \"I don't know how to use the module\" are inadequate queries and demonstate a need for more effort on your part.\n",
    "\n",
    "After each project reference code cell, there is a markdown cell for your questions/comments pertaining to it. If your code doesn't work, we expect you to have questions and we expect those questions to be as specific as possible. Sometimes the mere process of trying to explain your specific problem helps you to arive at the solution or at least other ways to attack the problem."
   ]
  },
  {
   "cell_type": "code",
   "execution_count": null,
   "metadata": {},
   "outputs": [],
   "source": [
    "# TODO: Code Samples for project reference 1\n"
   ]
  },
  {
   "cell_type": "markdown",
   "metadata": {},
   "source": [
    "#### Questions / comments about project reference 1\n",
    "\n",
    "\n",
    "`--== Double-click and place your questions below  ==--`\n",
    "\n",
    "\n",
    "\n"
   ]
  },
  {
   "cell_type": "code",
   "execution_count": null,
   "metadata": {},
   "outputs": [],
   "source": [
    "# TODO: Code Samples for project reference 2\n"
   ]
  },
  {
   "cell_type": "markdown",
   "metadata": {},
   "source": [
    "#### Questions / comments about project reference 2\n",
    "\n",
    "\n",
    "`--== Double-click and place your questions below  ==--`\n",
    "\n",
    "\n"
   ]
  },
  {
   "cell_type": "code",
   "execution_count": null,
   "metadata": {},
   "outputs": [],
   "source": [
    "# TODO: Code Samples for project reference 3\n"
   ]
  },
  {
   "cell_type": "markdown",
   "metadata": {},
   "source": [
    "#### Questions / comments about project reference 3\n",
    "\n",
    "\n",
    "`--== Double-click and place your questions below  ==--`\n",
    "\n",
    "\n"
   ]
  },
  {
   "cell_type": "code",
   "execution_count": null,
   "metadata": {},
   "outputs": [],
   "source": [
    "# TODO: Code Samples for project reference 4\n"
   ]
  },
  {
   "cell_type": "markdown",
   "metadata": {},
   "source": [
    "#### Questions / comments about project reference 4\n",
    "\n",
    "\n",
    "`--== Double-click and place your questions below  ==--`\n",
    "\n",
    "\n"
   ]
  },
  {
   "cell_type": "code",
   "execution_count": 2,
   "metadata": {},
   "outputs": [],
   "source": [
    "# TODO: Code Samples for project reference 5\n"
   ]
  },
  {
   "cell_type": "markdown",
   "metadata": {},
   "source": [
    "#### Questions / comments about project reference 5\n",
    "\n",
    "\n",
    "`--== Double-click and place your questions below  ==--`\n",
    "\n",
    "\n",
    "\n",
    "\n",
    "\n"
   ]
  },
  {
   "cell_type": "code",
   "execution_count": null,
   "metadata": {},
   "outputs": [],
   "source": []
  },
  {
   "cell_type": "markdown",
   "metadata": {},
   "source": [
    "### Step 4: Main Program Problem Analysis\n",
    "\n",
    "Take a first crack at the problem analysis for the main program of your project. This can be very high level. It is expected you will write your own functions, but you not have to consider that here. Focus on user interations with the program.\n",
    "\n",
    "\n",
    "\n",
    "Inputs:\n",
    "\n",
    "Outputs:\n",
    "\n",
    "\n",
    "Algorithm (Steps in Program):\n",
    "```\n",
    "\n",
    "\n",
    "\n",
    "\n",
    "```"
   ]
  },
  {
   "cell_type": "code",
   "execution_count": null,
   "metadata": {},
   "outputs": [],
   "source": [
    "# SAVE YOUR WORK FIRST! CTRL+S\n",
    "# RUN THIS CODE CELL TO TURN IN YOUR WORK!\n",
    "from ist256.submission import Submission\n",
    "Submission().submit()"
   ]
  }
 ],
 "metadata": {
  "kernelspec": {
   "display_name": "Python 3",
   "language": "python",
   "name": "python3"
  },
  "language_info": {
   "codemirror_mode": {
    "name": "ipython",
    "version": 3
   },
   "file_extension": ".py",
   "mimetype": "text/x-python",
   "name": "python",
   "nbconvert_exporter": "python",
   "pygments_lexer": "ipython3",
   "version": "3.7.6"
  }
 },
 "nbformat": 4,
 "nbformat_minor": 4
}
