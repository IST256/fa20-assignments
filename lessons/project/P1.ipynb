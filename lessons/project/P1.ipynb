{
 "cells": [
  {
   "cell_type": "markdown",
   "metadata": {},
   "source": [
    "# IST256 Project Deliverable 1 (P1)\n",
    "\n",
    "\n",
    "## Project Objective\n",
    "\n",
    "Your primary objectives for the project are to create something novel, useful and innovative with Python code. You can draw your inspiration from the many examples given to you throughout the semester. Your project should clearly and explicitly demonstrate the level of programming knowledge that you have acquired in this course. The type of project you propose is up to you. Ultimately you are evaluated based on not only the idea itself but your execution of it, therefore your **project should be a representaiton of you and your abilities as a programmer.**  \n",
    "\n",
    "Our role is to help you to refine your idea. If it is simple enough we will expect a full implementation, if it’s complex then we’ll ask for a manifestation of your idea as a minimum viable product. It should be a proof of concept demonstrating how the bigger system might work. That being said, it is important to engage your small group instructor. It can only make your project and your grade better.\n",
    "\n",
    "\n",
    "Higher marks are granted to projects which:\n",
    "\n",
    "- are novel, useful and innovative,\n",
    "- clearly demonstrate what has been learned in the course,\n",
    "- clearly demonstrate you are capable of acquiring new programming skills and techniques independently, and\n",
    "- are extensions / mash ups of existing systems / services rather than just fabrications of what already exists.\n",
    "\n",
    "**Not all projects are high marks projects.**\n",
    "\n",
    "### Project Guidelines\n",
    "\n",
    "The project has the following strict guidelines, for logistical / record-keeping purposes.\n",
    "\n",
    "- You must work alone. No groups.\n",
    "- You must execute some version of the idea you have proposed originally. If you need to deviate your idea, you must get permission from your small group instructor.\n",
    "- Once your idea is set and approved it should not be altered.\n",
    "- You must document your project activities a code journal.\n",
    "- All deliverables must be handed in on time. **no late work is accepted**\n",
    "- Penalty for not adhering to the guidelines: grade of ZERO on the project, or that phase of the project, if appropriate.\n",
    "\n",
    "Don't leave anything to question. When in doubt, talk to your small group instructor.\n",
    "\n",
    "\n"
   ]
  },
  {
   "cell_type": "markdown",
   "metadata": {},
   "source": [
    "## Phase 1: The Idea (5 of 52 points)\n",
    "\n",
    "This is the formalization of your project idea. You will hand in your work by executing the code script at the bottom of this page. \n",
    "\n",
    "### Step 1: What is Your Idea?\n",
    "\n",
    "Think: If I could program *anything* in Python I would make and why? Think BIG! We understand you might not be able to implement some of your ideas, at this point, but don’t let that stop you from trying. Remember to take the project objectives and guidelines from above into consideration. Focus on the problem, not the solution. Don’t worry about *how* you will do it, instead focus on *what* you will attempt to do.\n",
    "\n",
    "`--== Double-click and put the title of your project below  ==--`\n",
    "\n",
    "\n"
   ]
  },
  {
   "cell_type": "markdown",
   "metadata": {},
   "source": [
    "### Step 2: Project Research\n",
    "\n",
    "You should provide evidence through research that your idea is novel, useful, innovative and feasible. This ensures you've thought your idea through. We expect you to provide sources from the web or library to back your research. \n",
    "\n",
    "You should have **at least 3 sources** and for each source include a citation (if an online source, include a URL), and brief  reason it is one of your sources. For example it might demonstrates feasiblity, or it could be a source similar to what you plan to create in Python and include a description for how yours will be better / different.\n",
    "\n",
    "`--== Double-click and include your sources below here ==--`\n",
    "\n",
    "\n"
   ]
  },
  {
   "cell_type": "markdown",
   "metadata": {},
   "source": [
    "### Step 3: Project Summary\n",
    "\n",
    "With the idea and research out of the way, its time to write a brief summary of your project idea, In 250 - 500 words.\n",
    "\n",
    "`--== Double-Click and Write Your Project Summary Below Here ==--`\n",
    "\n",
    "\n"
   ]
  },
  {
   "cell_type": "markdown",
   "metadata": {},
   "source": [
    "### Step 4: Start a Code Journal\n",
    "\n",
    "One of the most valuable thing you can do for yourself and your professor is start a code journal. Each time you work on the project include the date, number of minutes you worked and a summary what you did. The most important part of your journal should be the summary. What did you do? Did you finish it? What issues are outstanding? What questions do you have? Did you hit any dead-ends? How did you work around the problem? Are you stuck? What are you stuck on?\n",
    "\n",
    "Each time before you start work on your project  review the last entry of your journal to remind you of where you left off! When you embrace journaling you'll discover many valuable uses for it. I love it for all the things I don't have to try to remember between coding sessions.\n",
    "\n",
    "Your Journal can be a google doc or spreadsheet that you share with your recitation instructor. Start a journal and put the sharable link here\n",
    "\n",
    "`--== Double-Click and paste the URL to your shared journal google doc or sheet below here  ==--`\n",
    "\n",
    "\n",
    "\n"
   ]
  },
  {
   "cell_type": "code",
   "execution_count": null,
   "metadata": {},
   "outputs": [],
   "source": [
    "# SAVE YOUR WORK FIRST! CTRL+S\n",
    "# RUN THIS CODE CELL TO TURN IN YOUR WORK!\n",
    "from ist256.submission import Submission\n",
    "Submission().submit()"
   ]
  }
 ],
 "metadata": {
  "kernelspec": {
   "display_name": "Python 3",
   "language": "python",
   "name": "python3"
  },
  "language_info": {
   "codemirror_mode": {
    "name": "ipython",
    "version": 3
   },
   "file_extension": ".py",
   "mimetype": "text/x-python",
   "name": "python",
   "nbconvert_exporter": "python",
   "pygments_lexer": "ipython3",
   "version": "3.7.6"
  }
 },
 "nbformat": 4,
 "nbformat_minor": 4
}
