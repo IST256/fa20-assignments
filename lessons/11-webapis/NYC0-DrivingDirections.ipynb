{
 "cells": [
  {
   "cell_type": "markdown",
   "metadata": {},
   "source": [
    "## Now You Code In Class: Getting Directions!\n",
    "\n",
    "Let's continue on our zomato journey, mashing it up with the Bing Maps API so that we can get driving instructions to the restaurant. \n",
    "\n",
    "Bing Maps Route API is here: https://docs.microsoft.com/en-us/bingmaps/rest-services/routes/calculate-a-route \n",
    "\n",
    "The zomato functions are the the `zomato.ipynb` file. We can import one noteook into another using the `import_ipynb` python module. "
   ]
  },
  {
   "cell_type": "code",
   "execution_count": null,
   "metadata": {},
   "outputs": [],
   "source": [
    "import requests \n",
    "import import_ipynb\n",
    "import zomato as zomato\n"
   ]
  },
  {
   "cell_type": "code",
   "execution_count": null,
   "metadata": {},
   "outputs": [],
   "source": [
    "# testing\n",
    "zomato_key = 'Your-Zomato-Key-Here'\n",
    "zomato.example(zomato_key)"
   ]
  },
  {
   "cell_type": "markdown",
   "metadata": {},
   "source": [
    "## Step 1: Bing Route API\n",
    "\n",
    "Bing Maps Route API is here: https://docs.microsoft.com/en-us/bingmaps/rest-services/routes/calculate-a-route Sign up and get an API Key.\n",
    "\n",
    "Then try to get directions from a start and finish address\n",
    "\n",
    "Inputs:\n",
    "\n",
    "Outputs:\n",
    "\n",
    "Algorithm (Steps in Program):\n"
   ]
  },
  {
   "cell_type": "code",
   "execution_count": null,
   "metadata": {},
   "outputs": [],
   "source": [
    "## Step 2 - Write Code \n",
    "start = 'Hinds Hall, Hinds Hall, Syracuse, NY 13244'\n",
    "finish =  '1 Song Mountain Rd, Tully, NY 13159'\n",
    "\n",
    "bing_key = 'Your Bing Key Here'\n",
    "directions_endpoint_url = 'http://dev.virtualearth.net/REST/V1/Routes/Driving'\n",
    "\n"
   ]
  },
  {
   "cell_type": "markdown",
   "metadata": {},
   "source": [
    "## Step 3 - refactor into a function\n",
    "\n",
    "- refactor code into a function `get_directions` which inputs the api_key, start and finish and outputs the list of steps in the directions"
   ]
  },
  {
   "cell_type": "code",
   "execution_count": null,
   "metadata": {},
   "outputs": [],
   "source": [
    "## Step 3\n",
    "bing_key = 'Your-Bing-Key-Here'\n",
    "\n",
    "def get_directions(bing_key, start_address, finish_address):\n",
    "    \n",
    "    # TODO Write code \n",
    "\n",
    "    \n",
    "    \n",
    "# Testing again\n",
    "start = 'Hinds Hall, Hinds Hall, Syracuse, NY 13244'\n",
    "finish =  '1 Song Mountain Rd, Tully, NY 13159'\n",
    "directions = get_directions(bing_key, start, finish)\n",
    "for item in directions:\n",
    "    print(f\"{item['instruction']['text']} for {float(item['travelDistance'])} miles\")"
   ]
  },
  {
   "cell_type": "markdown",
   "metadata": {},
   "source": [
    "## Step 4: Putting it all together\n",
    "\n",
    "Input your home address, then search for restaurants in a city , select a restaurant then get directions to the restaurant from your home address. \n",
    "\n",
    "Inputs:\n",
    "\n",
    "Outputs:\n",
    "\n",
    "Algorithm (Steps in Program):"
   ]
  },
  {
   "cell_type": "code",
   "execution_count": null,
   "metadata": {},
   "outputs": [],
   "source": [
    "# Step 5 Write code:\n",
    "\n"
   ]
  },
  {
   "cell_type": "code",
   "execution_count": null,
   "metadata": {},
   "outputs": [],
   "source": []
  }
 ],
 "metadata": {
  "kernelspec": {
   "display_name": "Python 3",
   "language": "python",
   "name": "python3"
  },
  "language_info": {
   "codemirror_mode": {
    "name": "ipython",
    "version": 3
   },
   "file_extension": ".py",
   "mimetype": "text/x-python",
   "name": "python",
   "nbconvert_exporter": "python",
   "pygments_lexer": "ipython3",
   "version": "3.7.6"
  },
  "toc": {
   "base_numbering": 1,
   "nav_menu": {},
   "number_sections": false,
   "sideBar": false,
   "skip_h1_title": false,
   "title_cell": "Table of Contents",
   "title_sidebar": "Contents",
   "toc_cell": false,
   "toc_position": {},
   "toc_section_display": false,
   "toc_window_display": false
  }
 },
 "nbformat": 4,
 "nbformat_minor": 2
}
