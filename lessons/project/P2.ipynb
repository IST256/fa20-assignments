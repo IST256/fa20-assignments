{
 "cells": [
  {
   "cell_type": "markdown",
   "metadata": {},
   "source": [
    "# IST256 Project Deliverable 2 (P2)\n",
    "\n",
    "## Phase 2: The Project Pitch / Proof Of Concept (13 of 52 points)\n",
    "\n",
    "The Pitch / Proof of Concept is a presentation of your project idea with provide evidence that your project is feasible:\n",
    "\n",
    "You will hand in the following within this notebook then hand it in using the submission script.\n",
    "\n",
    "1. Restate your idea\n",
    "2. Project References to the datasets / API’s / Python packages / services / etc. you require to complete your project and why you need them.\n",
    "3. Code examples you’ve written which demonstrate you understand how to use these systems / API’s / Python packages / Services / data sets / etc.\n",
    "4. Your main program’s design: Inputs and Outputs of your program, and a high level algorithm for your program. How will this program interact with the user?\n",
    "5. Turn in an updated version of your journal, reflecting the work you’ve done.\n"
   ]
  },
  {
   "cell_type": "markdown",
   "metadata": {},
   "source": [
    "### Step 1: What is Your Idea, Again?\n",
    "\n",
    "Remind us of your project again!\n",
    "\n",
    "`--== Double-click and put the title or brief description of your project below  ==--`\n",
    "\n"
   ]
  },
  {
   "cell_type": "markdown",
   "metadata": {},
   "source": [
    "### Step 2: Project References\n",
    "\n",
    "Include references to  the other software you will incorporate into your project. Theese are the datasets, API's, Python packages, cloud services, etc. you require to make your project work. \n",
    "\n",
    "**At bare miniumm should have two references. Projects aspiring for higher marks should have more.**\n",
    "\n",
    "For each project reference, include: \n",
    "\n",
    "- Number each reference 1, 2, 3, etc...\n",
    "- Name and Purpose. What is it?\n",
    "- Where did you get it? Provide a URL to it so that I can review it.\n",
    "- How will you use it / why do you need it for your project?\n",
    "\n",
    "\n",
    "`--== Double-click and place your references below  ==--`\n",
    "\n",
    "\n"
   ]
  },
  {
   "cell_type": "markdown",
   "metadata": {},
   "source": [
    "### Step 3: Code samples\n",
    "\n",
    "For each of your project references, please write code which demonstrates you understand how to work with the API/dataset/Python package. \n",
    "\n",
    "A code cell is provided for up to 5 references. If you require more, add more cells.\n",
    "\n",
    "Examples of things you should demonstrate with code.\n",
    "\n",
    "- For datasets, demonstrate you can load the data into Pandas, and work with it.\n",
    "- For Python packages, demonstrate you use the code the package provides to write a sample program.\n",
    "- For API's demonstrate you can call the API and parse the results.\n",
    "- For other services demonstrate you can integate them in Jupyter notebook (play sounds, take a picture with the webcam, etc)\n",
    "\n",
    "At the bare minimum you should write one sample of code for each project reference. You do not need to integrate them together.\n"
   ]
  },
  {
   "cell_type": "code",
   "execution_count": null,
   "metadata": {},
   "outputs": [],
   "source": [
    "# TODO: Code Samples for 1st project reference\n"
   ]
  },
  {
   "cell_type": "code",
   "execution_count": null,
   "metadata": {},
   "outputs": [],
   "source": [
    "# TODO: Code Samples for 2nd project reference\n"
   ]
  },
  {
   "cell_type": "code",
   "execution_count": null,
   "metadata": {},
   "outputs": [],
   "source": [
    "# TODO: Code Samples for 3rd project reference\n"
   ]
  },
  {
   "cell_type": "code",
   "execution_count": null,
   "metadata": {},
   "outputs": [],
   "source": [
    "# TODO: Code Samples for 4th project reference\n"
   ]
  },
  {
   "cell_type": "code",
   "execution_count": 2,
   "metadata": {},
   "outputs": [],
   "source": [
    "# TODO: Code Samples for 5th project reference\n"
   ]
  },
  {
   "cell_type": "code",
   "execution_count": null,
   "metadata": {},
   "outputs": [],
   "source": []
  },
  {
   "cell_type": "markdown",
   "metadata": {},
   "source": [
    "### Step 4: Problem Analysis\n",
    "\n",
    "Take a first crack at the problem analysis for the main program of your project. This can be very high level. It is expected you will write your own functions, but you not have to consider that here. Focus on user interations with the program.\n",
    "\n",
    "\n",
    "\n",
    "Inputs:\n",
    "\n",
    "Outputs:\n",
    "\n",
    "\n",
    "Algorithm (Steps in Program):\n",
    "```\n",
    "\n",
    "\n",
    "\n",
    "\n",
    "```"
   ]
  },
  {
   "cell_type": "markdown",
   "metadata": {},
   "source": [
    "### Step 5: Updated Code Journal\n",
    "\n",
    "Provide a link to your journal so we can see the updates you've been making while working on the project.\n",
    "\n",
    "`--== Double-Click and paste the URL to your shared journal google doc or sheet below here  ==--`\n",
    "\n",
    "\n",
    "\n"
   ]
  },
  {
   "cell_type": "code",
   "execution_count": null,
   "metadata": {},
   "outputs": [],
   "source": [
    "# SAVE YOUR WORK FIRST! CTRL+S\n",
    "# RUN THIS CODE CELL TO TURN IN YOUR WORK!\n",
    "from ist256.submission import Submission\n",
    "Submission().submit()"
   ]
  }
 ],
 "metadata": {
  "kernelspec": {
   "display_name": "Python 3",
   "language": "python",
   "name": "python3"
  },
  "language_info": {
   "codemirror_mode": {
    "name": "ipython",
    "version": 3
   },
   "file_extension": ".py",
   "mimetype": "text/x-python",
   "name": "python",
   "nbconvert_exporter": "python",
   "pygments_lexer": "ipython3",
   "version": "3.7.6"
  }
 },
 "nbformat": 4,
 "nbformat_minor": 4
}
